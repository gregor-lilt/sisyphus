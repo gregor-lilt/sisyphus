{
 "cells": [
  {
   "cell_type": "code",
   "execution_count": 20,
   "id": "915fda48-7e2a-4bae-82fc-7d0603250810",
   "metadata": {},
   "outputs": [
    {
     "name": "stdout",
     "output_type": "stream",
     "text": [
      "Original approach average time: 0.1288 seconds\n",
      "New approach average time: 0.1279 seconds\n",
      "Outputs are identical: True\n"
     ]
    }
   ],
   "source": [
    "import os\n",
    "import gzip\n",
    "import pickle\n",
    "import io\n",
    "import time\n",
    "import tempfile\n",
    "\n",
    "class DummyJob:\n",
    "    def __init__(self, data):\n",
    "        self.data = data\n",
    "\n",
    "    def _sis_path(self, path_type):\n",
    "        return os.path.join(tempfile.gettempdir(), f\"dummy_job_{path_type}.pkl.gz\")\n",
    "\n",
    "def original_approach(job):\n",
    "    start_time = time.time()\n",
    "    with gzip.open(job._sis_path(\"original\"), \"wb\") as f:\n",
    "        pickle.dump(job, f)\n",
    "    return time.time() - start_time\n",
    "\n",
    "def new_approach(job):\n",
    "    start_time = time.time()\n",
    "    \n",
    "    # Create gzipped pickle in memory\n",
    "    with io.BytesIO() as memory_file:\n",
    "        with gzip.GzipFile(fileobj=memory_file, mode='wb', compresslevel=9) as gzip_file:\n",
    "            pickle.dump(job, gzip_file, protocol=pickle.HIGHEST_PROTOCOL)\n",
    "        gzipped_pickle = memory_file.getvalue()\n",
    "    \n",
    "    # Write to disk\n",
    "    with open(job._sis_path(\"new\"), 'wb') as f:\n",
    "        f.write(gzipped_pickle)\n",
    "    \n",
    "    return time.time() - start_time\n",
    "\n",
    "# Create a dummy job with some data\n",
    "dummy_job = DummyJob([i for i in range(10_000_000)])\n",
    "\n",
    "# Run both approaches multiple times and average the results\n",
    "num_runs = 1\n",
    "original_times = []\n",
    "new_times = []\n",
    "\n",
    "for _ in range(num_runs):\n",
    "    original_times.append(original_approach(dummy_job))\n",
    "    new_times.append(new_approach(dummy_job))\n",
    "\n",
    "print(f\"Original approach average time: {sum(original_times) / num_runs:.4f} seconds\")\n",
    "print(f\"New approach average time: {sum(new_times) / num_runs:.4f} seconds\")\n",
    "\n",
    "# Verify that both approaches produce the same output\n",
    "with gzip.open(dummy_job._sis_path(\"original\"), \"rb\") as f:\n",
    "    original_data = pickle.load(f)\n",
    "\n",
    "with gzip.open(dummy_job._sis_path(\"new\"), \"rb\") as f:\n",
    "    new_data = pickle.load(f)\n",
    "\n",
    "print(f\"Outputs are identical: {original_data.data == new_data.data}\")\n",
    "\n",
    "# Clean up temporary files\n",
    "# os.remove(dummy_job._sis_path(\"original\"))\n",
    "# os.remove(dummy_job._sis_path(\"new\"))"
   ]
  },
  {
   "cell_type": "code",
   "execution_count": 19,
   "id": "9bb89f5f-6f57-427c-8c65-400043fc70ff",
   "metadata": {},
   "outputs": [
    {
     "data": {
      "text/plain": [
       "'/var/folders/zr/1470x5fs5ndbwlp_skwdntcc0000gn/T/dummy_job_original.pkl.gz'"
      ]
     },
     "execution_count": 19,
     "metadata": {},
     "output_type": "execute_result"
    }
   ],
   "source": [
    "dummy_job._sis_path(\"original\")"
   ]
  },
  {
   "cell_type": "code",
   "execution_count": 12,
   "id": "b42d9958-8d19-4a7e-8e7f-765741b058eb",
   "metadata": {},
   "outputs": [],
   "source": [
    "# os.remove(dummy_job._sis_path(\"original\"))"
   ]
  },
  {
   "cell_type": "code",
   "execution_count": null,
   "id": "a073f43d-2552-452f-8320-1eb19fbcb447",
   "metadata": {},
   "outputs": [],
   "source": []
  }
 ],
 "metadata": {
  "kernelspec": {
   "display_name": "Python 3 (ipykernel)",
   "language": "python",
   "name": "python3"
  },
  "language_info": {
   "codemirror_mode": {
    "name": "ipython",
    "version": 3
   },
   "file_extension": ".py",
   "mimetype": "text/x-python",
   "name": "python",
   "nbconvert_exporter": "python",
   "pygments_lexer": "ipython3",
   "version": "3.12.4"
  }
 },
 "nbformat": 4,
 "nbformat_minor": 5
}
